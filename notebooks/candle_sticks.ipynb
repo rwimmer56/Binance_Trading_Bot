{
 "cells": [
  {
   "cell_type": "code",
   "execution_count": 11,
   "metadata": {},
   "outputs": [],
   "source": [
    "import os\n",
    "import requests\n",
    "import pandas as pd\n",
    "import matplotlib.pyplot as plt\n",
    "from datetime import datetime, timedelta, date"
   ]
  },
  {
   "cell_type": "code",
   "execution_count": 2,
   "metadata": {},
   "outputs": [],
   "source": [
    "API_KEY = os.environ['BINANCE_API_KEY']\n",
    "API_SECRET = os.environ['BINANCE_API_SECRET']"
   ]
  },
  {
   "cell_type": "code",
   "execution_count": 20,
   "metadata": {},
   "outputs": [],
   "source": [
    "\n",
    "def get_klines(symbol, interval, start_time, end_time):\n",
    "    url = 'https://api.binance.com/api/v3/klines'\n",
    "    params = {\n",
    "        'symbol': symbol,\n",
    "        'interval': interval,\n",
    "        'startTime': start_time,\n",
    "        'endTime': end_time,\n",
    "    }\n",
    "    headers = {\n",
    "        'X-MBX-APIKEY': API_KEY\n",
    "    }\n",
    "    response = requests.get(url, params=params, headers=headers)\n",
    "    return response.json()\n",
    "\n",
    "\n",
    "def normalize(data):\n",
    "    \"\"\"Normalize the given data to the range [0, 1].\"\"\"\n",
    "    min_val = min(data)\n",
    "    max_val = max(data)\n",
    "    return [(x - min_val) / (max_val - min_val) for x in data]\n",
    "\n",
    "def create_plot(data, symbol):\n",
    "    df = pd.DataFrame(data, columns=['Open Time', 'Open', 'High', 'Low', 'Close', 'Volume',\n",
    "                                      'Close Time', 'Quote Asset Volume', 'Number of Trades',\n",
    "                                      'Taker Buy Base Asset Volume', 'Taker Buy Quote Asset Volume',\n",
    "                                      'Ignore'])\n",
    "\n",
    "    df['Open Time'] = pd.to_datetime(df['Open Time'], unit='ms')\n",
    "    df['Close'] = df['Close'].astype(float)\n",
    "\n",
    "    # Normalize the closing prices\n",
    "    normalized_close = normalize(df['Close'].tolist())\n",
    "\n",
    "    # Create directories for saving plots\n",
    "    date_str = date.today() - timedelta(days = 1)\n",
    "    actual_dir_path = f\"../data/actual/{date_str}/{symbol}\"\n",
    "    normalized_dir_path = f\"../data/normalized/{date_str}/{symbol}\"\n",
    "    os.makedirs(actual_dir_path, exist_ok=True)\n",
    "    os.makedirs(normalized_dir_path, exist_ok=True)\n",
    "\n",
    "    # Plot actual prices\n",
    "    plt.figure(figsize=(10, 5))\n",
    "    plt.plot(df['Open Time'], df['Close'], label='Actual Close Price', color='blue')\n",
    "    plt.title(f'Actual Price Chart for {symbol}')\n",
    "    plt.xlabel('Time')\n",
    "    plt.ylabel('Price (USDT)')\n",
    "    plt.legend()\n",
    "    plt.grid()\n",
    "    plt.xticks(rotation=45)\n",
    "    plt.savefig(f'{actual_dir_path}/{symbol}_{date_str}.png')\n",
    "    plt.close()\n",
    "\n",
    "    # Plot normalized prices\n",
    "    plt.figure(figsize=(10, 5))\n",
    "    plt.plot(df['Open Time'], normalized_close, label='Normalized Close Price', color='green')\n",
    "    plt.title(f'Normalized Price Chart for {symbol}')\n",
    "    plt.xlabel('Time')\n",
    "    plt.ylabel('Normalized Price')\n",
    "    plt.legend()\n",
    "    plt.grid()\n",
    "    plt.xticks(rotation=45)\n",
    "    plt.savefig(f'{normalized_dir_path}/{symbol}_{date_str}.png')\n",
    "    plt.close()\n"
   ]
  },
  {
   "cell_type": "code",
   "execution_count": 21,
   "metadata": {},
   "outputs": [
    {
     "name": "stdout",
     "output_type": "stream",
     "text": [
      "Fetching data for BTCUSDT...\n",
      "Fetching data for ETHUSDT...\n",
      "Fetching data for LTCUSDT...\n"
     ]
    }
   ],
   "source": [
    "def main():\n",
    "    exchange_pairs = [\"BTCUSDT\", \"ETHUSDT\", \"LTCUSDT\"]\n",
    "    interval = '15m'\n",
    "    \n",
    "    # Get start and end time for the previous day\n",
    "    today = datetime.now()\n",
    "    start_time = int((today - timedelta(days=1)).replace(hour=0, minute=0, second=0, microsecond=0).timestamp() * 1000)\n",
    "    end_time = int((today - timedelta(days=1)).replace(hour=23, minute=59, second=59, microsecond=999999).timestamp() * 1000)\n",
    "\n",
    "    for pair in exchange_pairs:\n",
    "        print(f'Fetching data for {pair}...')\n",
    "        data = get_klines(pair, interval, start_time, end_time)\n",
    "        if data:\n",
    "            create_plot(data, pair)\n",
    "        else:\n",
    "            print(f'No data found for {pair}.')\n",
    "\n",
    "if __name__ == '__main__':\n",
    "    main()"
   ]
  },
  {
   "cell_type": "code",
   "execution_count": null,
   "metadata": {},
   "outputs": [],
   "source": []
  }
 ],
 "metadata": {
  "kernelspec": {
   "display_name": "venv_Binance_Trading",
   "language": "python",
   "name": "python3"
  },
  "language_info": {
   "codemirror_mode": {
    "name": "ipython",
    "version": 3
   },
   "file_extension": ".py",
   "mimetype": "text/x-python",
   "name": "python",
   "nbconvert_exporter": "python",
   "pygments_lexer": "ipython3",
   "version": "3.12.6"
  }
 },
 "nbformat": 4,
 "nbformat_minor": 2
}
